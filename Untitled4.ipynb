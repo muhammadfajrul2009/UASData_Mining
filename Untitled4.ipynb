{
  "nbformat": 4,
  "nbformat_minor": 0,
  "metadata": {
    "colab": {
      "provenance": [],
      "include_colab_link": true
    },
    "kernelspec": {
      "name": "python3",
      "display_name": "Python 3"
    },
    "language_info": {
      "name": "python"
    }
  },
  "cells": [
    {
      "cell_type": "markdown",
      "metadata": {
        "id": "view-in-github",
        "colab_type": "text"
      },
      "source": [
        "<a href=\"https://colab.research.google.com/github/muhammadfajrul2009/UASData_Mining/blob/main/Untitled4.ipynb\" target=\"_parent\"><img src=\"https://colab.research.google.com/assets/colab-badge.svg\" alt=\"Open In Colab\"/></a>"
      ]
    },
    {
      "cell_type": "markdown",
      "source": [
        "### Import Library Dan File **Dataset**"
      ],
      "metadata": {
        "id": "0fIsQvnv1xxW"
      }
    },
    {
      "cell_type": "code",
      "source": [
        "import pandas as pd\n",
        "import numpy as np\n",
        "import matplotlib.pyplot as plt\n",
        "import seaborn as sns\n",
        "from sklearn.model_selection import train_test_split\n",
        "from sklearn.linear_model import LinearRegression\n",
        "from sklearn.metrics import mean_squared_error, r2_score\n",
        "!wget http://informatika20.my.id/data/monero.csv"
      ],
      "metadata": {
        "colab": {
          "base_uri": "https://localhost:8080/"
        },
        "id": "bjjYNDqRMS_6",
        "outputId": "9e1a113c-3e31-4a3b-b95a-be8a01d68e48"
      },
      "execution_count": 1,
      "outputs": [
        {
          "output_type": "stream",
          "name": "stdout",
          "text": [
            "--2023-07-25 14:04:45--  http://informatika20.my.id/data/monero.csv\n",
            "Resolving informatika20.my.id (informatika20.my.id)... 66.70.165.200\n",
            "Connecting to informatika20.my.id (informatika20.my.id)|66.70.165.200|:80... connected.\n",
            "HTTP request sent, awaiting response... 200 OK\n",
            "Length: 2459 (2.4K) [text/csv]\n",
            "Saving to: ‘monero.csv’\n",
            "\n",
            "monero.csv          100%[===================>]   2.40K  --.-KB/s    in 0s      \n",
            "\n",
            "2023-07-25 14:04:48 (269 MB/s) - ‘monero.csv’ saved [2459/2459]\n",
            "\n"
          ]
        }
      ]
    },
    {
      "cell_type": "markdown",
      "source": [
        "### PreProcessing Data"
      ],
      "metadata": {
        "id": "oT7oPUW01rC1"
      }
    },
    {
      "cell_type": "code",
      "source": [
        "def preprocess_and_save(csv_file_path, required_columns, output_csv_file):\n",
        "    df = pd.read_csv(csv_file_path)\n",
        "    print(df)\n",
        "    print(\"\\nInformasi Missing Values:\")\n",
        "    print(df.isnull().sum())\n",
        "    df = df[required_columns]\n",
        "    print(\"\\nKolom Yang Digunakan\")\n",
        "    print(df)\n",
        "\n",
        "    df.to_csv(output_csv_file, index=False)\n",
        "\n",
        "csv_file_path = 'monero.csv'\n",
        "required_columns = ['Price', 'Open', 'High', 'Low']\n",
        "output_csv_file = 'clean.csv'\n",
        "preprocess_and_save(csv_file_path, required_columns, output_csv_file)\n",
        "\n",
        "print(f\"\\n\\nData yang sudah dipreprocessing telah disimpan dalam file {output_csv_file}.\")\n",
        "\n"
      ],
      "metadata": {
        "colab": {
          "base_uri": "https://localhost:8080/"
        },
        "id": "T59vmbzny82e",
        "outputId": "7fa78197-f467-414a-b4d1-78ba94e0e33d"
      },
      "execution_count": 14,
      "outputs": [
        {
          "output_type": "stream",
          "name": "stdout",
          "text": [
            "      Date    Price     Open     High      Low     Vol. Change %\n",
            "0   Jun 23  168.385  145.910  170.812  126.076    2.47M   15.41%\n",
            "1   May 23  145.906  155.385  158.949  144.754    1.97M   -6.34%\n",
            "2   Apr 23  155.788  157.583  164.346  149.384    2.22M   -1.14%\n",
            "3   Mar 23  157.583  150.289  165.687  132.060    3.41M    4.85%\n",
            "4   Feb 23  150.289  177.479  180.797  145.476    2.61M  -15.32%\n",
            "5   Jan 23  177.479  147.457  187.550  146.521    3.40M   20.36%\n",
            "6   Dec 22  147.457  142.181  153.715  138.552    3.15M    3.71%\n",
            "7   Nov 22  142.181  149.514  161.909  115.696    3.59M   -4.90%\n",
            "8   Oct 22  149.514  147.371  152.659  134.848    3.18M    1.46%\n",
            "9   Sep 22  147.361  149.269  166.368  134.066    3.66M   -1.28%\n",
            "10  Aug 22  149.269  154.785  174.316  141.587    4.19M   -3.56%\n",
            "11  Jul 22  154.785  113.098  166.442  111.047    4.45M   36.60%\n",
            "12  Jun 22  113.310  198.518  203.935   96.924    4.57M  -42.94%\n",
            "13  May 22  198.565  214.517  229.608  119.199    7.06M   -7.46%\n",
            "14  Apr 22  214.574  212.710  288.795  208.820    6.96M    0.87%\n",
            "15  Mar 22  212.715  170.297  225.583  153.500  440.58M   24.90%\n",
            "16  Feb 22  170.304  147.188  187.525  132.276    4.05M   15.73%\n",
            "17  Jan 22  147.160  228.600  252.819  134.889    6.43M  -35.64%\n",
            "18  Dec 21  228.649  237.900  243.992  176.866    5.26M   -3.90%\n",
            "19  Nov 21  237.934  274.422  293.930  218.281    5.23M  -13.21%\n",
            "20  Oct 21  274.150  250.933  296.787  243.286    5.71M    9.25%\n",
            "21  Sep 21  250.933  285.944  321.604  212.682    5.80M  -12.25%\n",
            "22  Aug 21  285.974  239.607  339.561  222.994    4.17M   19.35%\n",
            "23  Jul 21  239.607  222.827  249.021  178.936    3.52M    7.76%\n",
            "24  Jun 21  222.349  272.609  315.580  180.513    5.37M  -18.46%\n",
            "25  May 21  272.702  422.461  520.164  152.490    8.05M  -35.49%\n",
            "26  Apr 21  422.699  246.141  439.466  244.510    6.70M   71.74%\n",
            "27  Mar 21  246.130  218.309  263.284  198.448    4.18M   12.99%\n",
            "28  Feb 21  217.832  137.932  288.318  135.713    6.53M   57.92%\n",
            "29  Jan 21  137.939  156.415  189.804  122.227    8.44M  -11.81%\n",
            "30  Dec 20  156.415  130.367  171.000  121.046    4.75M   20.00%\n",
            "31  Nov 20  130.345  123.676  140.274  104.483    4.11M    5.39%\n",
            "32  Oct 20  123.676  108.019  135.741   93.130    5.48M   14.47%\n",
            "33  Sep 20  108.047   93.050  109.504   73.967    3.42M   16.12%\n",
            "34  Aug 20   93.050   84.565  105.820   78.824    3.65M   10.03%\n",
            "35  Jul 20   84.567   63.621   84.681   61.444    3.15M   32.92%\n",
            "\n",
            "Informasi Missing Values:\n",
            "Date        0\n",
            "Price       0\n",
            "Open        0\n",
            "High        0\n",
            "Low         0\n",
            "Vol.        0\n",
            "Change %    0\n",
            "dtype: int64\n",
            "\n",
            "Kolom Yang Digunakan\n",
            "      Price     Open     High      Low\n",
            "0   168.385  145.910  170.812  126.076\n",
            "1   145.906  155.385  158.949  144.754\n",
            "2   155.788  157.583  164.346  149.384\n",
            "3   157.583  150.289  165.687  132.060\n",
            "4   150.289  177.479  180.797  145.476\n",
            "5   177.479  147.457  187.550  146.521\n",
            "6   147.457  142.181  153.715  138.552\n",
            "7   142.181  149.514  161.909  115.696\n",
            "8   149.514  147.371  152.659  134.848\n",
            "9   147.361  149.269  166.368  134.066\n",
            "10  149.269  154.785  174.316  141.587\n",
            "11  154.785  113.098  166.442  111.047\n",
            "12  113.310  198.518  203.935   96.924\n",
            "13  198.565  214.517  229.608  119.199\n",
            "14  214.574  212.710  288.795  208.820\n",
            "15  212.715  170.297  225.583  153.500\n",
            "16  170.304  147.188  187.525  132.276\n",
            "17  147.160  228.600  252.819  134.889\n",
            "18  228.649  237.900  243.992  176.866\n",
            "19  237.934  274.422  293.930  218.281\n",
            "20  274.150  250.933  296.787  243.286\n",
            "21  250.933  285.944  321.604  212.682\n",
            "22  285.974  239.607  339.561  222.994\n",
            "23  239.607  222.827  249.021  178.936\n",
            "24  222.349  272.609  315.580  180.513\n",
            "25  272.702  422.461  520.164  152.490\n",
            "26  422.699  246.141  439.466  244.510\n",
            "27  246.130  218.309  263.284  198.448\n",
            "28  217.832  137.932  288.318  135.713\n",
            "29  137.939  156.415  189.804  122.227\n",
            "30  156.415  130.367  171.000  121.046\n",
            "31  130.345  123.676  140.274  104.483\n",
            "32  123.676  108.019  135.741   93.130\n",
            "33  108.047   93.050  109.504   73.967\n",
            "34   93.050   84.565  105.820   78.824\n",
            "35   84.567   63.621   84.681   61.444\n",
            "\n",
            "\n",
            "Data yang sudah dipreprocessing telah disimpan dalam file clean.csv.\n"
          ]
        }
      ]
    },
    {
      "cell_type": "code",
      "source": [
        "import pandas as pd\n",
        "import joblib\n",
        "from sklearn.model_selection import train_test_split\n",
        "from sklearn.linear_model import LinearRegression\n",
        "from sklearn.metrics import mean_squared_error, r2_score\n",
        "\n",
        "# Fungsi untuk melatih model regresi linear dan menyimpan model sebagai h5 file\n",
        "def train_and_save_model(csv_file_path, target_column, feature_columns, model_file):\n",
        "    # Baca data dari file .csv\n",
        "    df = pd.read_csv(csv_file_path)\n",
        "\n",
        "    # Ubah koma menjadi titik dalam kolom-kolom yang berisi angka\n",
        "    for col in df.columns:\n",
        "        if df[col].dtype == 'object':\n",
        "            df[col] = df[col].str.replace(',', '.').astype(float)\n",
        "\n",
        "    # Hanya ambil kolom target dan fitur yang diperlukan\n",
        "    data = df[[target_column] + feature_columns]\n",
        "\n",
        "    # Pisahkan data menjadi data latih dan data uji\n",
        "    X = data[feature_columns]\n",
        "    y = data[target_column]\n",
        "    X_train, X_test, y_train, y_test = train_test_split(X, y, test_size=0.2, random_state=42)\n",
        "\n",
        "    # Latih model regresi linear\n",
        "    model = LinearRegression()\n",
        "    model.fit(X_train, y_train)\n",
        "\n",
        "    # Simpan model sebagai h5 file\n",
        "    joblib.dump(model, model_file)\n",
        "\n",
        "    # Lakukan prediksi pada data uji\n",
        "    y_pred = model.predict(X_test)\n",
        "\n",
        "    # Evaluasi model menggunakan metrik Mean Squared Error dan R-squared\n",
        "    mse = mean_squared_error(y_test, y_pred)\n",
        "    r_squared = r2_score(y_test, y_pred)\n",
        "\n",
        "    return model, y_test, y_pred, mse, r_squared\n",
        "\n",
        "\n",
        "csv_file_path = 'clean.csv'  # Ganti 'path_to_your_csv_file.csv' dengan path ke file .csv Anda\n",
        "target_column = 'Price'  # Ganti dengan kolom target yang ingin diprediksi (misalnya 'Price')\n",
        "feature_columns = ['Open', 'High', 'Low']\n",
        "\n",
        "model_file = 'linear_regression_model.h5'  # Nama file h5 untuk menyimpan model\n",
        "\n",
        "# Panggil fungsi train_and_save_model\n",
        "model, y_test, y_pred, mse, r_squared = train_and_save_model(csv_file_path, target_column, feature_columns, model_file)\n",
        "\n",
        "# Tampilkan hasil evaluasi model\n",
        "print(f\"Mean Squared Error: {mse}\")\n",
        "print(f\"R-squared: {r_squared}\")\n",
        "\n",
        "# Contoh prediksi untuk contoh data baru\n",
        "example_new_data = pd.DataFrame([[150.0, 160.0, 140.0]], columns=feature_columns)\n",
        "predicted_price = model.predict(example_new_data)\n",
        "print(f\"Prediksi harga untuk contoh data baru: {predicted_price[0]}\")"
      ],
      "metadata": {
        "id": "x_ZHDbuZAies",
        "colab": {
          "base_uri": "https://localhost:8080/"
        },
        "outputId": "2eb8c5cb-be65-489b-db8f-6a41b032fd19"
      },
      "execution_count": 17,
      "outputs": [
        {
          "output_type": "stream",
          "name": "stdout",
          "text": [
            "Mean Squared Error: 1068.2437661960548\n",
            "R-squared: 0.8931765883823687\n",
            "Prediksi harga untuk contoh data baru: 155.20985037747153\n"
          ]
        }
      ]
    },
    {
      "cell_type": "markdown",
      "source": [
        "### Train Data"
      ],
      "metadata": {
        "id": "ncZGKg3u2QHn"
      }
    },
    {
      "cell_type": "code",
      "source": [
        "import pandas as pd\n",
        "import joblib\n",
        "import json\n",
        "from sklearn.model_selection import train_test_split\n",
        "from sklearn.linear_model import LinearRegression\n",
        "from sklearn.metrics import mean_squared_error, r2_score\n",
        "\n",
        "# Function to train the linear regression model and save it as a JSON file\n",
        "def train_and_save_model(csv_file_path, target_column, feature_columns, model_file):\n",
        "    # Read data from the CSV file\n",
        "    df = pd.read_csv(csv_file_path)\n",
        "\n",
        "    # Replace commas with dots in columns containing numbers\n",
        "    for col in df.columns:\n",
        "        if df[col].dtype == 'object':\n",
        "            df[col] = df[col].str.replace(',', '.').astype(float)\n",
        "\n",
        "    # Select the target and feature columns\n",
        "    data = df[[target_column] + feature_columns]\n",
        "\n",
        "    # Split the data into training and test sets\n",
        "    X = data[feature_columns]\n",
        "    y = data[target_column]\n",
        "    X_train, X_test, y_train, y_test = train_test_split(X, y, test_size=0.2, random_state=42)\n",
        "\n",
        "    # Train the linear regression model\n",
        "    model = LinearRegression()\n",
        "    model.fit(X_train, y_train)\n",
        "\n",
        "    # Perform prediction on the test set\n",
        "    y_pred = model.predict(X_test)\n",
        "\n",
        "    # Evaluate the model using Mean Squared Error and R-squared\n",
        "    mse = mean_squared_error(y_test, y_pred)\n",
        "    r_squared = r2_score(y_test, y_pred)\n",
        "\n",
        "    # Save the model as a JSON file\n",
        "    model_dict = {\n",
        "        'coefficients': model.coef_.tolist(),\n",
        "        'intercept': model.intercept_\n",
        "    }\n",
        "    with open(model_file, 'w') as json_file:\n",
        "        json.dump(model_dict, json_file)\n",
        "\n",
        "    return model, y_test, y_pred, mse, r_squared\n",
        "\n",
        "# CSV file path, target column, and feature columns\n",
        "csv_file_path = 'clean.csv'\n",
        "target_column = 'Price'\n",
        "feature_columns = ['Open', 'High', 'Low']\n",
        "model_file = 'linear_regression_model.json'\n",
        "\n",
        "# Call the function to train the model and save it as a JSON file\n",
        "model, y_test, y_pred, mse, r_squared = train_and_save_model(csv_file_path, target_column, feature_columns, model_file)\n",
        "\n",
        "# Print the evaluation metrics\n",
        "print(f\"Mean Squared Error: {mse}\")\n",
        "print(f\"R-squared: {r_squared}\")\n",
        "\n",
        "# Example prediction for new data\n",
        "example_new_data = [150.0, 160.0, 140.0]\n",
        "predicted_price = model.predict([example_new_data])\n",
        "print(f\"Prediction for example new data: {predicted_price[0]}\\n\\n\\n\")\n"
      ],
      "metadata": {
        "id": "bAhOQr17ShHC",
        "colab": {
          "base_uri": "https://localhost:8080/"
        },
        "outputId": "98df84cc-553e-4730-f8b5-c748c67186c7"
      },
      "execution_count": 20,
      "outputs": [
        {
          "output_type": "stream",
          "name": "stdout",
          "text": [
            "Mean Squared Error: 1068.2437661960548\n",
            "R-squared: 0.8931765883823687\n",
            "Prediction for example new data: 155.20985037747153\n",
            "\n",
            "\n",
            "\n"
          ]
        },
        {
          "output_type": "stream",
          "name": "stderr",
          "text": [
            "/usr/local/lib/python3.10/dist-packages/sklearn/base.py:439: UserWarning: X does not have valid feature names, but LinearRegression was fitted with feature names\n",
            "  warnings.warn(\n"
          ]
        }
      ]
    }
  ]
}